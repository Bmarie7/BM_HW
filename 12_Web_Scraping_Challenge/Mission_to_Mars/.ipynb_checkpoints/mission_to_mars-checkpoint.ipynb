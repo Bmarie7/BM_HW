{
 "cells": [
  {
   "cell_type": "code",
   "execution_count": 12,
   "metadata": {
    "ExecuteTime": {
     "end_time": "2021-03-24T14:34:02.989588Z",
     "start_time": "2021-03-24T14:34:02.979615Z"
    }
   },
   "outputs": [],
   "source": [
    "import pandas as pd\n",
    "from splinter import Browser\n",
    "from bs4 import BeautifulSoup\n",
    "import os\n",
    "import time"
   ]
  },
  {
   "cell_type": "code",
   "execution_count": 13,
   "metadata": {
    "ExecuteTime": {
     "end_time": "2021-03-24T14:34:10.958387Z",
     "start_time": "2021-03-24T14:34:03.837547Z"
    }
   },
   "outputs": [
    {
     "name": "stdout",
     "output_type": "stream",
     "text": [
      "NASA Ingenuity Mars Helicopter Prepares for First Flight\n",
      "Now uncocooned from its protective carbon-fiber shield, the helicopter is being readied for its next steps.  \n"
     ]
    }
   ],
   "source": [
    "### NASA News\n",
    "\n",
    "# Executable path to Chrome Driver\n",
    "executable_path = {'executable_path': 'c:\\\\Users\\\\mongb\\\\UM_Bootcamp\\\\chromedriver.exe'}\n",
    "browser_nasa = Browser('chrome', **executable_path, headless=False)\n",
    "\n",
    "# visit url\n",
    "url_nasa='https://mars.nasa.gov/news/'\n",
    "browser_nasa.visit(url_nasa)\n",
    "\n",
    "# HTML obj.\n",
    "html=browser_nasa.html\n",
    "\n",
    "nasa_soup=BeautifulSoup(html,'html.parser')\n",
    "\n",
    "locate=nasa_soup.select_one('ul.item_list li.slide')\n",
    "# locate.find('div', class_='content_title')\n",
    "\n",
    "# Scrape the NASA Mars News Site and collect the latest News Title and Paragraph Text. \n",
    "news_title=locate.find('div',class_='content_title').get_text()\n",
    "news_p= locate.find('div', class_='article_teaser_body').get_text()\n",
    "\n",
    "browser_nasa.quit()\n",
    "\n",
    "print(news_title)\n",
    "print(news_p)"
   ]
  },
  {
   "cell_type": "code",
   "execution_count": 15,
   "metadata": {
    "ExecuteTime": {
     "end_time": "2021-03-24T14:35:07.651747Z",
     "start_time": "2021-03-24T14:35:02.661324Z"
    }
   },
   "outputs": [
    {
     "name": "stdout",
     "output_type": "stream",
     "text": [
      "https://d2pn8kiwq2w21t.cloudfront.net/images/jpegPIA24435.2e16d0ba.fill-400x400-c50.jpg\n"
     ]
    }
   ],
   "source": [
    "### JPL Mars Featured Images\n",
    "\n",
    "# Executable path to Chrome Driver\n",
    "executable_path = {'executable_path': 'c:\\\\Users\\\\mongb\\\\UM_Bootcamp\\\\chromedriver.exe'}\n",
    "browser_jpl = Browser('chrome', **executable_path, headless=False)\n",
    "\n",
    "# visit url\n",
    "url_jpl=\"https://www.jpl.nasa.gov/images?search=&category=Mars\"\n",
    "browser_jpl.visit(url_jpl)\n",
    "\n",
    "# HTML obj.\n",
    "html=browser_jpl.html\n",
    "\n",
    "jpl_soup=BeautifulSoup(html,'html.parser')\n",
    "\n",
    "featured_image_url=jpl_soup.find('img',class_='BaseImage')['src']\n",
    "\n",
    "browser_jpl.quit()\n",
    "\n",
    "print(featured_image_url)"
   ]
  },
  {
   "cell_type": "code",
   "execution_count": null,
   "metadata": {
    "ExecuteTime": {
     "end_time": "2021-03-24T14:16:33.346254Z",
     "start_time": "2021-03-24T14:16:27.230Z"
    }
   },
   "outputs": [],
   "source": [
    "# for a in jpl_soup.find_all('a', href=True):\n",
    "#     print (\"URL:\", a['href'])"
   ]
  },
  {
   "cell_type": "markdown",
   "metadata": {
    "ExecuteTime": {
     "end_time": "2021-03-24T11:05:06.990646Z",
     "start_time": "2021-03-24T11:05:06.986657Z"
    }
   },
   "source": [
    "### Mars Weather"
   ]
  },
  {
   "cell_type": "code",
   "execution_count": null,
   "metadata": {
    "ExecuteTime": {
     "end_time": "2021-03-24T14:16:33.346254Z",
     "start_time": "2021-03-24T14:16:27.231Z"
    }
   },
   "outputs": [],
   "source": [
    "import snscrape.modules.twitter as sntwitter"
   ]
  },
  {
   "cell_type": "code",
   "execution_count": null,
   "metadata": {
    "ExecuteTime": {
     "end_time": "2021-03-24T14:16:33.347251Z",
     "start_time": "2021-03-24T14:16:27.232Z"
    }
   },
   "outputs": [],
   "source": [
    "# Query by text search\n",
    "# Setting variables to be used below\n",
    "maxTweets = 4\n",
    "\n",
    "# Creating list to append tweet data to\n",
    "tweets_list = []\n",
    "\n",
    "# Using TwitterSearchScraper to scrape data and append tweets to list\n",
    "for i,tweet in enumerate(sntwitter.TwitterSearchScraper(\"from:MarsWxReport\").get_items()):\n",
    "    if i>maxTweets:\n",
    "        break\n",
    "    tweets_list.append([tweet.date, tweet.id, tweet.content, tweet.user.username])\n",
    "\n",
    "# Creating a dataframe from the tweets list above\n",
    "tweets_df = pd.DataFrame(tweets_list, columns=['Datetime', 'Tweet Id', 'Text', 'Username'])\n",
    "\n",
    "# Display entries from dataframe\n",
    "tweets_df\n"
   ]
  },
  {
   "cell_type": "code",
   "execution_count": null,
   "metadata": {
    "ExecuteTime": {
     "end_time": "2021-03-24T14:16:33.347251Z",
     "start_time": "2021-03-24T14:16:27.234Z"
    }
   },
   "outputs": [],
   "source": [
    "mars_weather=tweets_df.iloc[0]\n",
    "mars_weather"
   ]
  },
  {
   "cell_type": "markdown",
   "metadata": {},
   "source": [
    "### Mars Facts"
   ]
  },
  {
   "cell_type": "code",
   "execution_count": null,
   "metadata": {
    "ExecuteTime": {
     "end_time": "2021-03-24T14:16:33.348249Z",
     "start_time": "2021-03-24T14:16:27.235Z"
    }
   },
   "outputs": [],
   "source": [
    "# Mars Facts URL\n",
    "url_facts='https://space-facts.com/mars/'\n",
    "\n",
    "# Use pandas as pd to read html\n",
    "mars_facts=pd.read_html(url_facts)\n",
    "\n",
    "# store html to df\n",
    "mars_facts_df=pd.DataFrame(mars_facts[0])\n",
    "mars_facts_df"
   ]
  },
  {
   "cell_type": "code",
   "execution_count": null,
   "metadata": {
    "ExecuteTime": {
     "end_time": "2021-03-24T14:16:33.349246Z",
     "start_time": "2021-03-24T14:16:27.236Z"
    }
   },
   "outputs": [],
   "source": [
    "# convert dataframe to html\n",
    "mars_html=mars_facts_df.to_html()\n",
    "print(mars_html)"
   ]
  },
  {
   "cell_type": "markdown",
   "metadata": {
    "ExecuteTime": {
     "end_time": "2021-03-24T14:16:33.350243Z",
     "start_time": "2021-03-24T14:16:27.237Z"
    }
   },
   "source": [
    "### Mars Hemisphere"
   ]
  },
  {
   "cell_type": "code",
   "execution_count": 20,
   "metadata": {
    "ExecuteTime": {
     "end_time": "2021-03-24T14:39:35.139244Z",
     "start_time": "2021-03-24T14:39:17.134660Z"
    }
   },
   "outputs": [
    {
     "name": "stderr",
     "output_type": "stream",
     "text": [
      "C:\\Users\\mongb\\Anaconda3\\envs\\PythonData\\lib\\site-packages\\splinter\\driver\\webdriver\\__init__.py:498: FutureWarning: browser.find_link_by_text is deprecated. Use browser.links.find_by_text instead.\n",
      "  warnings.warn(\n"
     ]
    }
   ],
   "source": [
    "# Executable path to Chrome Driver\n",
    "executable_path = {'executable_path': 'c:\\\\Users\\\\mongb\\\\UM_Bootcamp\\\\chromedriver.exe'}\n",
    "browser_hemi = Browser('chrome', **executable_path, headless=False)\n",
    "\n",
    "# visit url\n",
    "url_hemi='https://astrogeology.usgs.gov/search/results?q=hemisphere+enhanced&k1=target&v1=Mars'\n",
    "browser_hemi.visit(url_hemi)\n",
    "\n",
    "# HTML obj.\n",
    "html=browser_hemi.html\n",
    "\n",
    "hemi_soup=BeautifulSoup(html,'html.parser')\n",
    "\n",
    "findImg=hemi_soup.find('div',class_='result-list')\n",
    "hemispheres=findImg.find_all('div',class_='item')\n",
    "\n",
    "hemisphere_image_urls = []\n",
    "\n",
    "links = browser_hemi.find_by_css(\"a.product-item h3\")\n",
    "\n",
    "for item in range(len(links)):\n",
    "    hemisphere = {}\n",
    "    \n",
    "    # Find Element on Each Loop to Avoid a Stale Element Exception\n",
    "    browser_hemi.find_by_css(\"a.product-item h3\")[item].click()\n",
    "    \n",
    "    # Find Sample Image Anchor Tag & Extract <href>\n",
    "    sample_element = browser_hemi.find_link_by_text(\"Sample\").first\n",
    "    hemisphere[\"img_url\"] = sample_element[\"href\"]\n",
    "    \n",
    "    # Get Hemisphere Title\n",
    "    hemisphere[\"title\"] = browser_hemi.find_by_css(\"h2.title\").text\n",
    "    \n",
    "    # Append Hemisphere Object to List\n",
    "    hemisphere_image_urls.append(hemisphere)\n",
    "    \n",
    "    # Navigate Backwards\n",
    "    browser_hemi.back()\n",
    "    \n",
    "browser_hemi.quit()"
   ]
  },
  {
   "cell_type": "code",
   "execution_count": 21,
   "metadata": {
    "ExecuteTime": {
     "end_time": "2021-03-24T14:39:35.389630Z",
     "start_time": "2021-03-24T14:39:35.375585Z"
    }
   },
   "outputs": [
    {
     "data": {
      "text/plain": [
       "[{'img_url': 'https://astropedia.astrogeology.usgs.gov/download/Mars/Viking/cerberus_enhanced.tif/full.jpg',\n",
       "  'title': 'Cerberus Hemisphere Enhanced'},\n",
       " {'img_url': 'https://astropedia.astrogeology.usgs.gov/download/Mars/Viking/schiaparelli_enhanced.tif/full.jpg',\n",
       "  'title': 'Schiaparelli Hemisphere Enhanced'},\n",
       " {'img_url': 'https://astropedia.astrogeology.usgs.gov/download/Mars/Viking/syrtis_major_enhanced.tif/full.jpg',\n",
       "  'title': 'Syrtis Major Hemisphere Enhanced'},\n",
       " {'img_url': 'https://astropedia.astrogeology.usgs.gov/download/Mars/Viking/valles_marineris_enhanced.tif/full.jpg',\n",
       "  'title': 'Valles Marineris Hemisphere Enhanced'}]"
      ]
     },
     "execution_count": 21,
     "metadata": {},
     "output_type": "execute_result"
    }
   ],
   "source": [
    "hemisphere_image_urls"
   ]
  }
 ],
 "metadata": {
  "kernelspec": {
   "display_name": "Python [conda env:PythonData] *",
   "language": "python",
   "name": "conda-env-PythonData-py"
  },
  "language_info": {
   "codemirror_mode": {
    "name": "ipython",
    "version": 3
   },
   "file_extension": ".py",
   "mimetype": "text/x-python",
   "name": "python",
   "nbconvert_exporter": "python",
   "pygments_lexer": "ipython3",
   "version": "3.8.5"
  },
  "varInspector": {
   "cols": {
    "lenName": 16,
    "lenType": 16,
    "lenVar": 40
   },
   "kernels_config": {
    "python": {
     "delete_cmd_postfix": "",
     "delete_cmd_prefix": "del ",
     "library": "var_list.py",
     "varRefreshCmd": "print(var_dic_list())"
    },
    "r": {
     "delete_cmd_postfix": ") ",
     "delete_cmd_prefix": "rm(",
     "library": "var_list.r",
     "varRefreshCmd": "cat(var_dic_list()) "
    }
   },
   "types_to_exclude": [
    "module",
    "function",
    "builtin_function_or_method",
    "instance",
    "_Feature"
   ],
   "window_display": false
  }
 },
 "nbformat": 4,
 "nbformat_minor": 4
}
