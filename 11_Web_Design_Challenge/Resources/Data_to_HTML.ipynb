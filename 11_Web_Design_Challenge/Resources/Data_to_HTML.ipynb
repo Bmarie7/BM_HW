{
 "cells": [
  {
   "cell_type": "code",
   "execution_count": 1,
   "metadata": {
    "ExecuteTime": {
     "end_time": "2021-03-09T04:16:09.888847Z",
     "start_time": "2021-03-09T04:16:09.883852Z"
    }
   },
   "outputs": [],
   "source": [
    "import pandas as pd"
   ]
  },
  {
   "cell_type": "code",
   "execution_count": 2,
   "metadata": {
    "ExecuteTime": {
     "end_time": "2021-03-09T04:22:53.157209Z",
     "start_time": "2021-03-09T04:22:53.151225Z"
    }
   },
   "outputs": [],
   "source": [
    "df=pd.read_csv('WeatherPy_Data.csv')"
   ]
  },
  {
   "cell_type": "code",
   "execution_count": 3,
   "metadata": {
    "ExecuteTime": {
     "end_time": "2021-03-09T04:22:54.911366Z",
     "start_time": "2021-03-09T04:22:54.909356Z"
    }
   },
   "outputs": [],
   "source": [
    "del df['Unnamed: 0']"
   ]
  },
  {
   "cell_type": "code",
   "execution_count": 4,
   "metadata": {
    "ExecuteTime": {
     "end_time": "2021-03-09T04:22:56.063057Z",
     "start_time": "2021-03-09T04:22:56.050078Z"
    }
   },
   "outputs": [
    {
     "output_type": "execute_result",
     "data": {
      "text/plain": [
       "             City      Lat       Lng  Max Temp  Humidity  Cloudiness  \\\n",
       "0           airai  -8.9266  125.4092     71.31        93          99   \n",
       "1       carnarvon -24.8667  113.6333     84.20        74          99   \n",
       "2       caravelas -17.7125  -39.2481     74.84        88          89   \n",
       "3    komsomolskiy  40.4272   71.7189     51.80        54          89   \n",
       "4        kirakira -10.4544  161.9205     83.79        70          91   \n",
       "..            ...      ...       ...       ...       ...         ...   \n",
       "560        davila  18.4726  120.5763     87.80        58          20   \n",
       "561       joensuu  62.6012   29.7632    -11.20        84           0   \n",
       "562       charcas  23.1333 -101.1167     49.68        85          17   \n",
       "563      navrongo  10.8956   -1.0921     81.70        42          51   \n",
       "564          kaka  37.3482   59.6143     62.22        32          94   \n",
       "\n",
       "     Wind Speed Country        Date  \n",
       "0          1.36      TL  1615268589  \n",
       "1         12.66      AU  1615268573  \n",
       "2          3.91      BR  1615268685  \n",
       "3          2.30      UZ  1615268562  \n",
       "4          2.24      SB  1615268665  \n",
       "..          ...     ...         ...  \n",
       "560       11.50      PH  1615268598  \n",
       "561        3.44      FI  1615268787  \n",
       "562        9.42      MX  1615268787  \n",
       "563        6.15      GH  1615268588  \n",
       "564        1.86      TM  1615268787  \n",
       "\n",
       "[565 rows x 9 columns]"
      ],
      "text/html": "<div>\n<style scoped>\n    .dataframe tbody tr th:only-of-type {\n        vertical-align: middle;\n    }\n\n    .dataframe tbody tr th {\n        vertical-align: top;\n    }\n\n    .dataframe thead th {\n        text-align: right;\n    }\n</style>\n<table border=\"1\" class=\"dataframe\">\n  <thead>\n    <tr style=\"text-align: right;\">\n      <th></th>\n      <th>City</th>\n      <th>Lat</th>\n      <th>Lng</th>\n      <th>Max Temp</th>\n      <th>Humidity</th>\n      <th>Cloudiness</th>\n      <th>Wind Speed</th>\n      <th>Country</th>\n      <th>Date</th>\n    </tr>\n  </thead>\n  <tbody>\n    <tr>\n      <th>0</th>\n      <td>airai</td>\n      <td>-8.9266</td>\n      <td>125.4092</td>\n      <td>71.31</td>\n      <td>93</td>\n      <td>99</td>\n      <td>1.36</td>\n      <td>TL</td>\n      <td>1615268589</td>\n    </tr>\n    <tr>\n      <th>1</th>\n      <td>carnarvon</td>\n      <td>-24.8667</td>\n      <td>113.6333</td>\n      <td>84.20</td>\n      <td>74</td>\n      <td>99</td>\n      <td>12.66</td>\n      <td>AU</td>\n      <td>1615268573</td>\n    </tr>\n    <tr>\n      <th>2</th>\n      <td>caravelas</td>\n      <td>-17.7125</td>\n      <td>-39.2481</td>\n      <td>74.84</td>\n      <td>88</td>\n      <td>89</td>\n      <td>3.91</td>\n      <td>BR</td>\n      <td>1615268685</td>\n    </tr>\n    <tr>\n      <th>3</th>\n      <td>komsomolskiy</td>\n      <td>40.4272</td>\n      <td>71.7189</td>\n      <td>51.80</td>\n      <td>54</td>\n      <td>89</td>\n      <td>2.30</td>\n      <td>UZ</td>\n      <td>1615268562</td>\n    </tr>\n    <tr>\n      <th>4</th>\n      <td>kirakira</td>\n      <td>-10.4544</td>\n      <td>161.9205</td>\n      <td>83.79</td>\n      <td>70</td>\n      <td>91</td>\n      <td>2.24</td>\n      <td>SB</td>\n      <td>1615268665</td>\n    </tr>\n    <tr>\n      <th>...</th>\n      <td>...</td>\n      <td>...</td>\n      <td>...</td>\n      <td>...</td>\n      <td>...</td>\n      <td>...</td>\n      <td>...</td>\n      <td>...</td>\n      <td>...</td>\n    </tr>\n    <tr>\n      <th>560</th>\n      <td>davila</td>\n      <td>18.4726</td>\n      <td>120.5763</td>\n      <td>87.80</td>\n      <td>58</td>\n      <td>20</td>\n      <td>11.50</td>\n      <td>PH</td>\n      <td>1615268598</td>\n    </tr>\n    <tr>\n      <th>561</th>\n      <td>joensuu</td>\n      <td>62.6012</td>\n      <td>29.7632</td>\n      <td>-11.20</td>\n      <td>84</td>\n      <td>0</td>\n      <td>3.44</td>\n      <td>FI</td>\n      <td>1615268787</td>\n    </tr>\n    <tr>\n      <th>562</th>\n      <td>charcas</td>\n      <td>23.1333</td>\n      <td>-101.1167</td>\n      <td>49.68</td>\n      <td>85</td>\n      <td>17</td>\n      <td>9.42</td>\n      <td>MX</td>\n      <td>1615268787</td>\n    </tr>\n    <tr>\n      <th>563</th>\n      <td>navrongo</td>\n      <td>10.8956</td>\n      <td>-1.0921</td>\n      <td>81.70</td>\n      <td>42</td>\n      <td>51</td>\n      <td>6.15</td>\n      <td>GH</td>\n      <td>1615268588</td>\n    </tr>\n    <tr>\n      <th>564</th>\n      <td>kaka</td>\n      <td>37.3482</td>\n      <td>59.6143</td>\n      <td>62.22</td>\n      <td>32</td>\n      <td>94</td>\n      <td>1.86</td>\n      <td>TM</td>\n      <td>1615268787</td>\n    </tr>\n  </tbody>\n</table>\n<p>565 rows × 9 columns</p>\n</div>"
     },
     "metadata": {},
     "execution_count": 4
    }
   ],
   "source": [
    "df"
   ]
  },
  {
   "cell_type": "code",
   "execution_count": 5,
   "metadata": {
    "ExecuteTime": {
     "end_time": "2021-03-09T04:34:39.803047Z",
     "start_time": "2021-03-09T04:34:39.798060Z"
    }
   },
   "outputs": [],
   "source": [
    "df2=df.round(decimals=2)"
   ]
  },
  {
   "cell_type": "code",
   "execution_count": 6,
   "metadata": {
    "ExecuteTime": {
     "end_time": "2021-03-09T04:34:42.209500Z",
     "start_time": "2021-03-09T04:34:42.196560Z"
    }
   },
   "outputs": [
    {
     "output_type": "execute_result",
     "data": {
      "text/plain": [
       "             City    Lat     Lng  Max Temp  Humidity  Cloudiness  Wind Speed  \\\n",
       "0           airai  -8.93  125.41     71.31        93          99        1.36   \n",
       "1       carnarvon -24.87  113.63     84.20        74          99       12.66   \n",
       "2       caravelas -17.71  -39.25     74.84        88          89        3.91   \n",
       "3    komsomolskiy  40.43   71.72     51.80        54          89        2.30   \n",
       "4        kirakira -10.45  161.92     83.79        70          91        2.24   \n",
       "..            ...    ...     ...       ...       ...         ...         ...   \n",
       "560        davila  18.47  120.58     87.80        58          20       11.50   \n",
       "561       joensuu  62.60   29.76    -11.20        84           0        3.44   \n",
       "562       charcas  23.13 -101.12     49.68        85          17        9.42   \n",
       "563      navrongo  10.90   -1.09     81.70        42          51        6.15   \n",
       "564          kaka  37.35   59.61     62.22        32          94        1.86   \n",
       "\n",
       "    Country        Date  \n",
       "0        TL  1615268589  \n",
       "1        AU  1615268573  \n",
       "2        BR  1615268685  \n",
       "3        UZ  1615268562  \n",
       "4        SB  1615268665  \n",
       "..      ...         ...  \n",
       "560      PH  1615268598  \n",
       "561      FI  1615268787  \n",
       "562      MX  1615268787  \n",
       "563      GH  1615268588  \n",
       "564      TM  1615268787  \n",
       "\n",
       "[565 rows x 9 columns]"
      ],
      "text/html": "<div>\n<style scoped>\n    .dataframe tbody tr th:only-of-type {\n        vertical-align: middle;\n    }\n\n    .dataframe tbody tr th {\n        vertical-align: top;\n    }\n\n    .dataframe thead th {\n        text-align: right;\n    }\n</style>\n<table border=\"1\" class=\"dataframe\">\n  <thead>\n    <tr style=\"text-align: right;\">\n      <th></th>\n      <th>City</th>\n      <th>Lat</th>\n      <th>Lng</th>\n      <th>Max Temp</th>\n      <th>Humidity</th>\n      <th>Cloudiness</th>\n      <th>Wind Speed</th>\n      <th>Country</th>\n      <th>Date</th>\n    </tr>\n  </thead>\n  <tbody>\n    <tr>\n      <th>0</th>\n      <td>airai</td>\n      <td>-8.93</td>\n      <td>125.41</td>\n      <td>71.31</td>\n      <td>93</td>\n      <td>99</td>\n      <td>1.36</td>\n      <td>TL</td>\n      <td>1615268589</td>\n    </tr>\n    <tr>\n      <th>1</th>\n      <td>carnarvon</td>\n      <td>-24.87</td>\n      <td>113.63</td>\n      <td>84.20</td>\n      <td>74</td>\n      <td>99</td>\n      <td>12.66</td>\n      <td>AU</td>\n      <td>1615268573</td>\n    </tr>\n    <tr>\n      <th>2</th>\n      <td>caravelas</td>\n      <td>-17.71</td>\n      <td>-39.25</td>\n      <td>74.84</td>\n      <td>88</td>\n      <td>89</td>\n      <td>3.91</td>\n      <td>BR</td>\n      <td>1615268685</td>\n    </tr>\n    <tr>\n      <th>3</th>\n      <td>komsomolskiy</td>\n      <td>40.43</td>\n      <td>71.72</td>\n      <td>51.80</td>\n      <td>54</td>\n      <td>89</td>\n      <td>2.30</td>\n      <td>UZ</td>\n      <td>1615268562</td>\n    </tr>\n    <tr>\n      <th>4</th>\n      <td>kirakira</td>\n      <td>-10.45</td>\n      <td>161.92</td>\n      <td>83.79</td>\n      <td>70</td>\n      <td>91</td>\n      <td>2.24</td>\n      <td>SB</td>\n      <td>1615268665</td>\n    </tr>\n    <tr>\n      <th>...</th>\n      <td>...</td>\n      <td>...</td>\n      <td>...</td>\n      <td>...</td>\n      <td>...</td>\n      <td>...</td>\n      <td>...</td>\n      <td>...</td>\n      <td>...</td>\n    </tr>\n    <tr>\n      <th>560</th>\n      <td>davila</td>\n      <td>18.47</td>\n      <td>120.58</td>\n      <td>87.80</td>\n      <td>58</td>\n      <td>20</td>\n      <td>11.50</td>\n      <td>PH</td>\n      <td>1615268598</td>\n    </tr>\n    <tr>\n      <th>561</th>\n      <td>joensuu</td>\n      <td>62.60</td>\n      <td>29.76</td>\n      <td>-11.20</td>\n      <td>84</td>\n      <td>0</td>\n      <td>3.44</td>\n      <td>FI</td>\n      <td>1615268787</td>\n    </tr>\n    <tr>\n      <th>562</th>\n      <td>charcas</td>\n      <td>23.13</td>\n      <td>-101.12</td>\n      <td>49.68</td>\n      <td>85</td>\n      <td>17</td>\n      <td>9.42</td>\n      <td>MX</td>\n      <td>1615268787</td>\n    </tr>\n    <tr>\n      <th>563</th>\n      <td>navrongo</td>\n      <td>10.90</td>\n      <td>-1.09</td>\n      <td>81.70</td>\n      <td>42</td>\n      <td>51</td>\n      <td>6.15</td>\n      <td>GH</td>\n      <td>1615268588</td>\n    </tr>\n    <tr>\n      <th>564</th>\n      <td>kaka</td>\n      <td>37.35</td>\n      <td>59.61</td>\n      <td>62.22</td>\n      <td>32</td>\n      <td>94</td>\n      <td>1.86</td>\n      <td>TM</td>\n      <td>1615268787</td>\n    </tr>\n  </tbody>\n</table>\n<p>565 rows × 9 columns</p>\n</div>"
     },
     "metadata": {},
     "execution_count": 6
    }
   ],
   "source": [
    "df2"
   ]
  },
  {
   "cell_type": "code",
   "execution_count": 7,
   "metadata": {
    "ExecuteTime": {
     "end_time": "2021-03-09T04:09:49.085952Z",
     "start_time": "2021-03-09T04:09:49.080964Z"
    },
    "scrolled": true
   },
   "outputs": [],
   "source": [
    "df2=df.round(decimals=2)"
   ]
  },
  {
   "cell_type": "code",
   "execution_count": 8,
   "metadata": {
    "ExecuteTime": {
     "end_time": "2021-03-09T04:10:17.793419Z",
     "start_time": "2021-03-09T04:10:17.763540Z"
    }
   },
   "outputs": [
    {
     "output_type": "execute_result",
     "data": {
      "text/plain": [
       "             City    Lat     Lng  Max Temp  Humidity  Cloudiness  Wind Speed  \\\n",
       "0           airai  -8.93  125.41     71.31        93          99        1.36   \n",
       "1       carnarvon -24.87  113.63     84.20        74          99       12.66   \n",
       "2       caravelas -17.71  -39.25     74.84        88          89        3.91   \n",
       "3    komsomolskiy  40.43   71.72     51.80        54          89        2.30   \n",
       "4        kirakira -10.45  161.92     83.79        70          91        2.24   \n",
       "..            ...    ...     ...       ...       ...         ...         ...   \n",
       "560        davila  18.47  120.58     87.80        58          20       11.50   \n",
       "561       joensuu  62.60   29.76    -11.20        84           0        3.44   \n",
       "562       charcas  23.13 -101.12     49.68        85          17        9.42   \n",
       "563      navrongo  10.90   -1.09     81.70        42          51        6.15   \n",
       "564          kaka  37.35   59.61     62.22        32          94        1.86   \n",
       "\n",
       "    Country        Date  \n",
       "0        TL  1615268589  \n",
       "1        AU  1615268573  \n",
       "2        BR  1615268685  \n",
       "3        UZ  1615268562  \n",
       "4        SB  1615268665  \n",
       "..      ...         ...  \n",
       "560      PH  1615268598  \n",
       "561      FI  1615268787  \n",
       "562      MX  1615268787  \n",
       "563      GH  1615268588  \n",
       "564      TM  1615268787  \n",
       "\n",
       "[565 rows x 9 columns]"
      ],
      "text/html": "<div>\n<style scoped>\n    .dataframe tbody tr th:only-of-type {\n        vertical-align: middle;\n    }\n\n    .dataframe tbody tr th {\n        vertical-align: top;\n    }\n\n    .dataframe thead th {\n        text-align: right;\n    }\n</style>\n<table border=\"1\" class=\"dataframe\">\n  <thead>\n    <tr style=\"text-align: right;\">\n      <th></th>\n      <th>City</th>\n      <th>Lat</th>\n      <th>Lng</th>\n      <th>Max Temp</th>\n      <th>Humidity</th>\n      <th>Cloudiness</th>\n      <th>Wind Speed</th>\n      <th>Country</th>\n      <th>Date</th>\n    </tr>\n  </thead>\n  <tbody>\n    <tr>\n      <th>0</th>\n      <td>airai</td>\n      <td>-8.93</td>\n      <td>125.41</td>\n      <td>71.31</td>\n      <td>93</td>\n      <td>99</td>\n      <td>1.36</td>\n      <td>TL</td>\n      <td>1615268589</td>\n    </tr>\n    <tr>\n      <th>1</th>\n      <td>carnarvon</td>\n      <td>-24.87</td>\n      <td>113.63</td>\n      <td>84.20</td>\n      <td>74</td>\n      <td>99</td>\n      <td>12.66</td>\n      <td>AU</td>\n      <td>1615268573</td>\n    </tr>\n    <tr>\n      <th>2</th>\n      <td>caravelas</td>\n      <td>-17.71</td>\n      <td>-39.25</td>\n      <td>74.84</td>\n      <td>88</td>\n      <td>89</td>\n      <td>3.91</td>\n      <td>BR</td>\n      <td>1615268685</td>\n    </tr>\n    <tr>\n      <th>3</th>\n      <td>komsomolskiy</td>\n      <td>40.43</td>\n      <td>71.72</td>\n      <td>51.80</td>\n      <td>54</td>\n      <td>89</td>\n      <td>2.30</td>\n      <td>UZ</td>\n      <td>1615268562</td>\n    </tr>\n    <tr>\n      <th>4</th>\n      <td>kirakira</td>\n      <td>-10.45</td>\n      <td>161.92</td>\n      <td>83.79</td>\n      <td>70</td>\n      <td>91</td>\n      <td>2.24</td>\n      <td>SB</td>\n      <td>1615268665</td>\n    </tr>\n    <tr>\n      <th>...</th>\n      <td>...</td>\n      <td>...</td>\n      <td>...</td>\n      <td>...</td>\n      <td>...</td>\n      <td>...</td>\n      <td>...</td>\n      <td>...</td>\n      <td>...</td>\n    </tr>\n    <tr>\n      <th>560</th>\n      <td>davila</td>\n      <td>18.47</td>\n      <td>120.58</td>\n      <td>87.80</td>\n      <td>58</td>\n      <td>20</td>\n      <td>11.50</td>\n      <td>PH</td>\n      <td>1615268598</td>\n    </tr>\n    <tr>\n      <th>561</th>\n      <td>joensuu</td>\n      <td>62.60</td>\n      <td>29.76</td>\n      <td>-11.20</td>\n      <td>84</td>\n      <td>0</td>\n      <td>3.44</td>\n      <td>FI</td>\n      <td>1615268787</td>\n    </tr>\n    <tr>\n      <th>562</th>\n      <td>charcas</td>\n      <td>23.13</td>\n      <td>-101.12</td>\n      <td>49.68</td>\n      <td>85</td>\n      <td>17</td>\n      <td>9.42</td>\n      <td>MX</td>\n      <td>1615268787</td>\n    </tr>\n    <tr>\n      <th>563</th>\n      <td>navrongo</td>\n      <td>10.90</td>\n      <td>-1.09</td>\n      <td>81.70</td>\n      <td>42</td>\n      <td>51</td>\n      <td>6.15</td>\n      <td>GH</td>\n      <td>1615268588</td>\n    </tr>\n    <tr>\n      <th>564</th>\n      <td>kaka</td>\n      <td>37.35</td>\n      <td>59.61</td>\n      <td>62.22</td>\n      <td>32</td>\n      <td>94</td>\n      <td>1.86</td>\n      <td>TM</td>\n      <td>1615268787</td>\n    </tr>\n  </tbody>\n</table>\n<p>565 rows × 9 columns</p>\n</div>"
     },
     "metadata": {},
     "execution_count": 8
    }
   ],
   "source": [
    "df2"
   ]
  },
  {
   "cell_type": "code",
   "execution_count": 9,
   "metadata": {
    "ExecuteTime": {
     "end_time": "2021-03-09T04:34:55.029166Z",
     "start_time": "2021-03-09T04:34:54.957327Z"
    },
    "tags": [
     "outputPrepend"
    ]
   },
   "outputs": [
    {
     "output_type": "stream",
     "name": "stdout",
     "text": [
      "83</td>\n      <td>72</td>\n      <td>80</td>\n      <td>11.90</td>\n      <td>PH</td>\n      <td>1615268768</td>\n    </tr>\n    <tr>\n      <th>477</th>\n      <td>simplicio mendes</td>\n      <td>-7.85</td>\n      <td>-41.91</td>\n      <td>70.79</td>\n      <td>91</td>\n      <td>75</td>\n      <td>1.95</td>\n      <td>BR</td>\n      <td>1615268769</td>\n    </tr>\n    <tr>\n      <th>478</th>\n      <td>nisia floresta</td>\n      <td>-6.09</td>\n      <td>-35.21</td>\n      <td>77.00</td>\n      <td>88</td>\n      <td>20</td>\n      <td>3.44</td>\n      <td>BR</td>\n      <td>1615268769</td>\n    </tr>\n    <tr>\n      <th>479</th>\n      <td>cedar city</td>\n      <td>37.68</td>\n      <td>-113.06</td>\n      <td>51.80</td>\n      <td>17</td>\n      <td>1</td>\n      <td>29.93</td>\n      <td>US</td>\n      <td>1615268769</td>\n    </tr>\n    <tr>\n      <th>480</th>\n      <td>kutum</td>\n      <td>14.20</td>\n      <td>24.67</td>\n      <td>67.01</td>\n      <td>18</td>\n      <td>0</td>\n      <td>6.06</td>\n      <td>SD</td>\n      <td>1615268663</td>\n    </tr>\n    <tr>\n      <th>481</th>\n      <td>tooele</td>\n      <td>40.53</td>\n      <td>-112.30</td>\n      <td>48.00</td>\n      <td>66</td>\n      <td>1</td>\n      <td>6.91</td>\n      <td>US</td>\n      <td>1615268770</td>\n    </tr>\n    <tr>\n      <th>482</th>\n      <td>daru</td>\n      <td>-9.08</td>\n      <td>143.21</td>\n      <td>82.20</td>\n      <td>83</td>\n      <td>80</td>\n      <td>9.93</td>\n      <td>PG</td>\n      <td>1615268587</td>\n    </tr>\n    <tr>\n      <th>483</th>\n      <td>dandong</td>\n      <td>40.13</td>\n      <td>124.39</td>\n      <td>49.82</td>\n      <td>49</td>\n      <td>0</td>\n      <td>2.59</td>\n      <td>CN</td>\n      <td>1615268770</td>\n    </tr>\n    <tr>\n      <th>484</th>\n      <td>namibe</td>\n      <td>-15.20</td>\n      <td>12.15</td>\n      <td>73.09</td>\n      <td>78</td>\n      <td>40</td>\n      <td>1.07</td>\n      <td>AO</td>\n      <td>1615268770</td>\n    </tr>\n    <tr>\n      <th>485</th>\n      <td>maceio</td>\n      <td>-9.67</td>\n      <td>-35.74</td>\n      <td>73.40</td>\n      <td>94</td>\n      <td>20</td>\n      <td>3.44</td>\n      <td>BR</td>\n      <td>1615268542</td>\n    </tr>\n    <tr>\n      <th>486</th>\n      <td>la trinidad</td>\n      <td>16.45</td>\n      <td>120.59</td>\n      <td>75.85</td>\n      <td>50</td>\n      <td>57</td>\n      <td>4.41</td>\n      <td>PH</td>\n      <td>1615268548</td>\n    </tr>\n    <tr>\n      <th>487</th>\n      <td>kamenka</td>\n      <td>51.32</td>\n      <td>42.77</td>\n      <td>21.00</td>\n      <td>94</td>\n      <td>29</td>\n      <td>3.69</td>\n      <td>RU</td>\n      <td>1615268771</td>\n    </tr>\n    <tr>\n      <th>488</th>\n      <td>gushikawa</td>\n      <td>26.35</td>\n      <td>127.87</td>\n      <td>75.20</td>\n      <td>73</td>\n      <td>40</td>\n      <td>8.05</td>\n      <td>JP</td>\n      <td>1615268771</td>\n    </tr>\n    <tr>\n      <th>489</th>\n      <td>kang</td>\n      <td>-23.68</td>\n      <td>22.79</td>\n      <td>72.97</td>\n      <td>55</td>\n      <td>71</td>\n      <td>9.28</td>\n      <td>BW</td>\n      <td>1615268771</td>\n    </tr>\n    <tr>\n      <th>490</th>\n      <td>dudinka</td>\n      <td>69.41</td>\n      <td>86.18</td>\n      <td>-15.74</td>\n      <td>88</td>\n      <td>99</td>\n      <td>9.91</td>\n      <td>RU</td>\n      <td>1615268772</td>\n    </tr>\n    <tr>\n      <th>491</th>\n      <td>glenwood springs</td>\n      <td>39.55</td>\n      <td>-107.32</td>\n      <td>36.00</td>\n      <td>59</td>\n      <td>1</td>\n      <td>12.66</td>\n      <td>US</td>\n      <td>1615268770</td>\n    </tr>\n    <tr>\n      <th>492</th>\n      <td>wiarton</td>\n      <td>44.74</td>\n      <td>-81.13</td>\n      <td>35.60</td>\n      <td>87</td>\n      <td>40</td>\n      <td>4.61</td>\n      <td>CA</td>\n      <td>1615268772</td>\n    </tr>\n    <tr>\n      <th>493</th>\n      <td>saint-augustin</td>\n      <td>51.23</td>\n      <td>-58.65</td>\n      <td>8.38</td>\n      <td>92</td>\n      <td>0</td>\n      <td>5.86</td>\n      <td>CA</td>\n      <td>1615268667</td>\n    </tr>\n    <tr>\n      <th>494</th>\n      <td>tual</td>\n      <td>-5.67</td>\n      <td>132.75</td>\n      <td>83.64</td>\n      <td>73</td>\n      <td>100</td>\n      <td>15.82</td>\n      <td>ID</td>\n      <td>1615268772</td>\n    </tr>\n    <tr>\n      <th>495</th>\n      <td>clinton</td>\n      <td>42.59</td>\n      <td>-82.92</td>\n      <td>51.80</td>\n      <td>66</td>\n      <td>1</td>\n      <td>5.75</td>\n      <td>US</td>\n      <td>1615268772</td>\n    </tr>\n    <tr>\n      <th>496</th>\n      <td>krasnyy oktyabr</td>\n      <td>56.12</td>\n      <td>38.88</td>\n      <td>1.49</td>\n      <td>92</td>\n      <td>77</td>\n      <td>6.69</td>\n      <td>RU</td>\n      <td>1615268773</td>\n    </tr>\n    <tr>\n      <th>497</th>\n      <td>brae</td>\n      <td>60.40</td>\n      <td>-1.35</td>\n      <td>42.80</td>\n      <td>87</td>\n      <td>90</td>\n      <td>16.11</td>\n      <td>GB</td>\n      <td>1615268773</td>\n    </tr>\n    <tr>\n      <th>498</th>\n      <td>imbituba</td>\n      <td>-28.24</td>\n      <td>-48.67</td>\n      <td>71.60</td>\n      <td>94</td>\n      <td>75</td>\n      <td>3.44</td>\n      <td>BR</td>\n      <td>1615268773</td>\n    </tr>\n    <tr>\n      <th>499</th>\n      <td>la playa</td>\n      <td>18.29</td>\n      <td>-67.19</td>\n      <td>75.00</td>\n      <td>96</td>\n      <td>0</td>\n      <td>12.12</td>\n      <td>PR</td>\n      <td>1615268774</td>\n    </tr>\n    <tr>\n      <th>500</th>\n      <td>andros town</td>\n      <td>24.70</td>\n      <td>-77.77</td>\n      <td>69.80</td>\n      <td>43</td>\n      <td>75</td>\n      <td>13.80</td>\n      <td>BS</td>\n      <td>1615268712</td>\n    </tr>\n    <tr>\n      <th>501</th>\n      <td>ponoka</td>\n      <td>52.68</td>\n      <td>-113.58</td>\n      <td>23.00</td>\n      <td>100</td>\n      <td>100</td>\n      <td>4.61</td>\n      <td>CA</td>\n      <td>1615268703</td>\n    </tr>\n    <tr>\n      <th>502</th>\n      <td>nouadhibou</td>\n      <td>20.93</td>\n      <td>-17.03</td>\n      <td>62.01</td>\n      <td>81</td>\n      <td>0</td>\n      <td>24.40</td>\n      <td>MR</td>\n      <td>1615268774</td>\n    </tr>\n    <tr>\n      <th>503</th>\n      <td>dabat</td>\n      <td>12.98</td>\n      <td>37.76</td>\n      <td>65.77</td>\n      <td>29</td>\n      <td>6</td>\n      <td>3.62</td>\n      <td>ET</td>\n      <td>1615268774</td>\n    </tr>\n    <tr>\n      <th>504</th>\n      <td>les cayes</td>\n      <td>18.20</td>\n      <td>-73.75</td>\n      <td>74.16</td>\n      <td>83</td>\n      <td>7</td>\n      <td>10.71</td>\n      <td>HT</td>\n      <td>1615268775</td>\n    </tr>\n    <tr>\n      <th>505</th>\n      <td>ambulu</td>\n      <td>-8.35</td>\n      <td>113.61</td>\n      <td>84.29</td>\n      <td>73</td>\n      <td>31</td>\n      <td>8.48</td>\n      <td>ID</td>\n      <td>1615268775</td>\n    </tr>\n    <tr>\n      <th>506</th>\n      <td>pingliang</td>\n      <td>35.54</td>\n      <td>106.69</td>\n      <td>52.00</td>\n      <td>32</td>\n      <td>0</td>\n      <td>3.00</td>\n      <td>CN</td>\n      <td>1615268775</td>\n    </tr>\n    <tr>\n      <th>507</th>\n      <td>bure</td>\n      <td>10.70</td>\n      <td>37.07</td>\n      <td>74.32</td>\n      <td>27</td>\n      <td>16</td>\n      <td>2.98</td>\n      <td>ET</td>\n      <td>1615268775</td>\n    </tr>\n    <tr>\n      <th>508</th>\n      <td>machico</td>\n      <td>32.70</td>\n      <td>-16.77</td>\n      <td>57.20</td>\n      <td>72</td>\n      <td>75</td>\n      <td>4.61</td>\n      <td>PT</td>\n      <td>1615268776</td>\n    </tr>\n    <tr>\n      <th>509</th>\n      <td>egvekinot</td>\n      <td>66.32</td>\n      <td>-179.17</td>\n      <td>-32.08</td>\n      <td>88</td>\n      <td>59</td>\n      <td>2.77</td>\n      <td>RU</td>\n      <td>1615268587</td>\n    </tr>\n    <tr>\n      <th>510</th>\n      <td>vila franca do campo</td>\n      <td>37.72</td>\n      <td>-25.43</td>\n      <td>51.80</td>\n      <td>93</td>\n      <td>20</td>\n      <td>4.61</td>\n      <td>PT</td>\n      <td>1615268776</td>\n    </tr>\n    <tr>\n      <th>511</th>\n      <td>namikupa</td>\n      <td>-10.83</td>\n      <td>39.60</td>\n      <td>75.83</td>\n      <td>91</td>\n      <td>99</td>\n      <td>0.87</td>\n      <td>TZ</td>\n      <td>1615268777</td>\n    </tr>\n    <tr>\n      <th>512</th>\n      <td>harper</td>\n      <td>4.38</td>\n      <td>-7.72</td>\n      <td>78.10</td>\n      <td>86</td>\n      <td>46</td>\n      <td>6.51</td>\n      <td>LR</td>\n      <td>1615268777</td>\n    </tr>\n    <tr>\n      <th>513</th>\n      <td>mangrul pir</td>\n      <td>20.32</td>\n      <td>77.35</td>\n      <td>94.95</td>\n      <td>13</td>\n      <td>0</td>\n      <td>8.93</td>\n      <td>IN</td>\n      <td>1615268777</td>\n    </tr>\n    <tr>\n      <th>514</th>\n      <td>phangnga</td>\n      <td>8.45</td>\n      <td>98.53</td>\n      <td>97.00</td>\n      <td>45</td>\n      <td>0</td>\n      <td>10.36</td>\n      <td>TH</td>\n      <td>1615268777</td>\n    </tr>\n    <tr>\n      <th>515</th>\n      <td>vila velha</td>\n      <td>-20.33</td>\n      <td>-40.29</td>\n      <td>72.00</td>\n      <td>100</td>\n      <td>0</td>\n      <td>2.30</td>\n      <td>BR</td>\n      <td>1615268610</td>\n    </tr>\n    <tr>\n      <th>516</th>\n      <td>cumberland</td>\n      <td>35.05</td>\n      <td>-78.87</td>\n      <td>43.00</td>\n      <td>60</td>\n      <td>1</td>\n      <td>3.44</td>\n      <td>US</td>\n      <td>1615268661</td>\n    </tr>\n    <tr>\n      <th>517</th>\n      <td>mizdah</td>\n      <td>31.45</td>\n      <td>12.98</td>\n      <td>50.09</td>\n      <td>91</td>\n      <td>0</td>\n      <td>2.17</td>\n      <td>LY</td>\n      <td>1615268778</td>\n    </tr>\n    <tr>\n      <th>518</th>\n      <td>cananea</td>\n      <td>30.95</td>\n      <td>-110.30</td>\n      <td>62.01</td>\n      <td>31</td>\n      <td>100</td>\n      <td>3.00</td>\n      <td>MX</td>\n      <td>1615268778</td>\n    </tr>\n    <tr>\n      <th>519</th>\n      <td>chenghai</td>\n      <td>23.46</td>\n      <td>116.77</td>\n      <td>73.40</td>\n      <td>60</td>\n      <td>20</td>\n      <td>6.71</td>\n      <td>CN</td>\n      <td>1615268779</td>\n    </tr>\n    <tr>\n      <th>520</th>\n      <td>kruisfontein</td>\n      <td>-34.00</td>\n      <td>24.73</td>\n      <td>60.01</td>\n      <td>85</td>\n      <td>99</td>\n      <td>3.89</td>\n      <td>ZA</td>\n      <td>1615268573</td>\n    </tr>\n    <tr>\n      <th>521</th>\n      <td>iqaluit</td>\n      <td>63.75</td>\n      <td>-68.51</td>\n      <td>14.00</td>\n      <td>79</td>\n      <td>75</td>\n      <td>3.44</td>\n      <td>CA</td>\n      <td>1615268618</td>\n    </tr>\n    <tr>\n      <th>522</th>\n      <td>bhuj</td>\n      <td>23.27</td>\n      <td>69.67</td>\n      <td>90.09</td>\n      <td>22</td>\n      <td>0</td>\n      <td>5.73</td>\n      <td>IN</td>\n      <td>1615268654</td>\n    </tr>\n    <tr>\n      <th>523</th>\n      <td>dombarovskiy</td>\n      <td>50.76</td>\n      <td>59.54</td>\n      <td>20.05</td>\n      <td>93</td>\n      <td>66</td>\n      <td>16.73</td>\n      <td>RU</td>\n      <td>1615268779</td>\n    </tr>\n    <tr>\n      <th>524</th>\n      <td>hun</td>\n      <td>29.13</td>\n      <td>15.95</td>\n      <td>59.16</td>\n      <td>60</td>\n      <td>42</td>\n      <td>7.72</td>\n      <td>LY</td>\n      <td>1615268779</td>\n    </tr>\n    <tr>\n      <th>525</th>\n      <td>yantal</td>\n      <td>56.85</td>\n      <td>105.25</td>\n      <td>29.07</td>\n      <td>95</td>\n      <td>100</td>\n      <td>14.45</td>\n      <td>RU</td>\n      <td>1615268779</td>\n    </tr>\n    <tr>\n      <th>526</th>\n      <td>beloha</td>\n      <td>-25.17</td>\n      <td>45.05</td>\n      <td>80.19</td>\n      <td>60</td>\n      <td>0</td>\n      <td>6.38</td>\n      <td>MG</td>\n      <td>1615268780</td>\n    </tr>\n    <tr>\n      <th>527</th>\n      <td>fukue</td>\n      <td>32.69</td>\n      <td>128.84</td>\n      <td>55.40</td>\n      <td>58</td>\n      <td>75</td>\n      <td>11.50</td>\n      <td>JP</td>\n      <td>1615268780</td>\n    </tr>\n    <tr>\n      <th>528</th>\n      <td>moron</td>\n      <td>-34.65</td>\n      <td>-58.62</td>\n      <td>64.99</td>\n      <td>84</td>\n      <td>0</td>\n      <td>5.01</td>\n      <td>AR</td>\n      <td>1615268780</td>\n    </tr>\n    <tr>\n      <th>529</th>\n      <td>hamilton</td>\n      <td>39.18</td>\n      <td>-84.53</td>\n      <td>48.00</td>\n      <td>49</td>\n      <td>40</td>\n      <td>5.75</td>\n      <td>US</td>\n      <td>1615268396</td>\n    </tr>\n    <tr>\n      <th>530</th>\n      <td>luebo</td>\n      <td>-5.35</td>\n      <td>21.42</td>\n      <td>70.88</td>\n      <td>89</td>\n      <td>99</td>\n      <td>1.52</td>\n      <td>CD</td>\n      <td>1615268781</td>\n    </tr>\n    <tr>\n      <th>531</th>\n      <td>anadyr</td>\n      <td>64.75</td>\n      <td>177.48</td>\n      <td>-22.00</td>\n      <td>69</td>\n      <td>20</td>\n      <td>6.71</td>\n      <td>RU</td>\n      <td>1615268781</td>\n    </tr>\n    <tr>\n      <th>532</th>\n      <td>steinbach</td>\n      <td>50.17</td>\n      <td>8.57</td>\n      <td>41.00</td>\n      <td>86</td>\n      <td>20</td>\n      <td>5.75</td>\n      <td>DE</td>\n      <td>1615268781</td>\n    </tr>\n    <tr>\n      <th>533</th>\n      <td>mednogorsk</td>\n      <td>51.41</td>\n      <td>57.60</td>\n      <td>21.07</td>\n      <td>97</td>\n      <td>100</td>\n      <td>13.87</td>\n      <td>RU</td>\n      <td>1615268781</td>\n    </tr>\n    <tr>\n      <th>534</th>\n      <td>wewak</td>\n      <td>-3.55</td>\n      <td>143.63</td>\n      <td>82.63</td>\n      <td>73</td>\n      <td>100</td>\n      <td>7.02</td>\n      <td>PG</td>\n      <td>1615268781</td>\n    </tr>\n    <tr>\n      <th>535</th>\n      <td>fiumicino</td>\n      <td>41.77</td>\n      <td>12.23</td>\n      <td>50.00</td>\n      <td>93</td>\n      <td>75</td>\n      <td>9.22</td>\n      <td>IT</td>\n      <td>1615268782</td>\n    </tr>\n    <tr>\n      <th>536</th>\n      <td>joue-les-tours</td>\n      <td>47.35</td>\n      <td>0.67</td>\n      <td>32.00</td>\n      <td>86</td>\n      <td>42</td>\n      <td>2.30</td>\n      <td>FR</td>\n      <td>1615268782</td>\n    </tr>\n    <tr>\n      <th>537</th>\n      <td>port macquarie</td>\n      <td>-31.43</td>\n      <td>152.92</td>\n      <td>69.80</td>\n      <td>78</td>\n      <td>90</td>\n      <td>11.50</td>\n      <td>AU</td>\n      <td>1615268604</td>\n    </tr>\n    <tr>\n      <th>538</th>\n      <td>khammam</td>\n      <td>17.25</td>\n      <td>80.15</td>\n      <td>93.65</td>\n      <td>28</td>\n      <td>2</td>\n      <td>10.29</td>\n      <td>IN</td>\n      <td>1615268782</td>\n    </tr>\n    <tr>\n      <th>539</th>\n      <td>kununurra</td>\n      <td>-15.77</td>\n      <td>128.73</td>\n      <td>93.20</td>\n      <td>59</td>\n      <td>63</td>\n      <td>5.75</td>\n      <td>AU</td>\n      <td>1615268782</td>\n    </tr>\n    <tr>\n      <th>540</th>\n      <td>ust-tsilma</td>\n      <td>65.44</td>\n      <td>52.15</td>\n      <td>-18.02</td>\n      <td>87</td>\n      <td>99</td>\n      <td>4.70</td>\n      <td>RU</td>\n      <td>1615268783</td>\n    </tr>\n    <tr>\n      <th>541</th>\n      <td>terre haute</td>\n      <td>39.47</td>\n      <td>-87.41</td>\n      <td>51.01</td>\n      <td>53</td>\n      <td>1</td>\n      <td>6.91</td>\n      <td>US</td>\n      <td>1615268783</td>\n    </tr>\n    <tr>\n      <th>542</th>\n      <td>chabahar</td>\n      <td>25.29</td>\n      <td>60.64</td>\n      <td>75.09</td>\n      <td>57</td>\n      <td>0</td>\n      <td>4.41</td>\n      <td>IR</td>\n      <td>1615268783</td>\n    </tr>\n    <tr>\n      <th>543</th>\n      <td>zhaotong</td>\n      <td>27.32</td>\n      <td>103.72</td>\n      <td>56.82</td>\n      <td>54</td>\n      <td>91</td>\n      <td>2.19</td>\n      <td>CN</td>\n      <td>1615268783</td>\n    </tr>\n    <tr>\n      <th>544</th>\n      <td>belyy yar</td>\n      <td>53.60</td>\n      <td>91.39</td>\n      <td>35.60</td>\n      <td>27</td>\n      <td>0</td>\n      <td>20.13</td>\n      <td>RU</td>\n      <td>1615268599</td>\n    </tr>\n    <tr>\n      <th>545</th>\n      <td>pestovo</td>\n      <td>58.59</td>\n      <td>35.80</td>\n      <td>-7.24</td>\n      <td>90</td>\n      <td>77</td>\n      <td>5.84</td>\n      <td>RU</td>\n      <td>1615268784</td>\n    </tr>\n    <tr>\n      <th>546</th>\n      <td>hovd</td>\n      <td>48.01</td>\n      <td>91.64</td>\n      <td>43.72</td>\n      <td>45</td>\n      <td>39</td>\n      <td>6.33</td>\n      <td>MN</td>\n      <td>1615268784</td>\n    </tr>\n    <tr>\n      <th>547</th>\n      <td>bay roberts</td>\n      <td>47.60</td>\n      <td>-53.26</td>\n      <td>26.01</td>\n      <td>76</td>\n      <td>98</td>\n      <td>3.00</td>\n      <td>CA</td>\n      <td>1615268784</td>\n    </tr>\n    <tr>\n      <th>548</th>\n      <td>bama</td>\n      <td>11.52</td>\n      <td>13.69</td>\n      <td>67.75</td>\n      <td>25</td>\n      <td>0</td>\n      <td>1.03</td>\n      <td>NG</td>\n      <td>1615268778</td>\n    </tr>\n    <tr>\n      <th>549</th>\n      <td>vila</td>\n      <td>42.03</td>\n      <td>-8.16</td>\n      <td>33.01</td>\n      <td>89</td>\n      <td>9</td>\n      <td>3.76</td>\n      <td>PT</td>\n      <td>1615268785</td>\n    </tr>\n    <tr>\n      <th>550</th>\n      <td>panacan</td>\n      <td>9.25</td>\n      <td>118.41</td>\n      <td>87.80</td>\n      <td>66</td>\n      <td>20</td>\n      <td>11.50</td>\n      <td>PH</td>\n      <td>1615268785</td>\n    </tr>\n    <tr>\n      <th>551</th>\n      <td>chimore</td>\n      <td>-16.98</td>\n      <td>-65.13</td>\n      <td>69.80</td>\n      <td>91</td>\n      <td>94</td>\n      <td>1.52</td>\n      <td>BO</td>\n      <td>1615268785</td>\n    </tr>\n    <tr>\n      <th>552</th>\n      <td>maralal</td>\n      <td>1.10</td>\n      <td>36.70</td>\n      <td>68.88</td>\n      <td>42</td>\n      <td>36</td>\n      <td>9.08</td>\n      <td>KE</td>\n      <td>1615268785</td>\n    </tr>\n    <tr>\n      <th>553</th>\n      <td>rognan</td>\n      <td>67.10</td>\n      <td>15.39</td>\n      <td>26.01</td>\n      <td>74</td>\n      <td>20</td>\n      <td>20.71</td>\n      <td>NO</td>\n      <td>1615268786</td>\n    </tr>\n    <tr>\n      <th>554</th>\n      <td>thinadhoo</td>\n      <td>0.53</td>\n      <td>72.93</td>\n      <td>83.88</td>\n      <td>66</td>\n      <td>10</td>\n      <td>4.79</td>\n      <td>MV</td>\n      <td>1615268660</td>\n    </tr>\n    <tr>\n      <th>555</th>\n      <td>killybegs</td>\n      <td>54.63</td>\n      <td>-8.45</td>\n      <td>45.00</td>\n      <td>94</td>\n      <td>99</td>\n      <td>7.00</td>\n      <td>IE</td>\n      <td>1615268786</td>\n    </tr>\n    <tr>\n      <th>556</th>\n      <td>tabligbo</td>\n      <td>6.58</td>\n      <td>1.50</td>\n      <td>82.40</td>\n      <td>83</td>\n      <td>40</td>\n      <td>6.91</td>\n      <td>TG</td>\n      <td>1615268786</td>\n    </tr>\n    <tr>\n      <th>557</th>\n      <td>devils lake</td>\n      <td>48.11</td>\n      <td>-98.87</td>\n      <td>44.01</td>\n      <td>81</td>\n      <td>1</td>\n      <td>11.50</td>\n      <td>US</td>\n      <td>1615268732</td>\n    </tr>\n    <tr>\n      <th>558</th>\n      <td>lucea</td>\n      <td>18.45</td>\n      <td>-78.17</td>\n      <td>75.99</td>\n      <td>83</td>\n      <td>75</td>\n      <td>13.80</td>\n      <td>JM</td>\n      <td>1615268786</td>\n    </tr>\n    <tr>\n      <th>559</th>\n      <td>urambo</td>\n      <td>-5.07</td>\n      <td>32.05</td>\n      <td>68.18</td>\n      <td>88</td>\n      <td>100</td>\n      <td>1.36</td>\n      <td>TZ</td>\n      <td>1615268787</td>\n    </tr>\n    <tr>\n      <th>560</th>\n      <td>davila</td>\n      <td>18.47</td>\n      <td>120.58</td>\n      <td>87.80</td>\n      <td>58</td>\n      <td>20</td>\n      <td>11.50</td>\n      <td>PH</td>\n      <td>1615268598</td>\n    </tr>\n    <tr>\n      <th>561</th>\n      <td>joensuu</td>\n      <td>62.60</td>\n      <td>29.76</td>\n      <td>-11.20</td>\n      <td>84</td>\n      <td>0</td>\n      <td>3.44</td>\n      <td>FI</td>\n      <td>1615268787</td>\n    </tr>\n    <tr>\n      <th>562</th>\n      <td>charcas</td>\n      <td>23.13</td>\n      <td>-101.12</td>\n      <td>49.68</td>\n      <td>85</td>\n      <td>17</td>\n      <td>9.42</td>\n      <td>MX</td>\n      <td>1615268787</td>\n    </tr>\n    <tr>\n      <th>563</th>\n      <td>navrongo</td>\n      <td>10.90</td>\n      <td>-1.09</td>\n      <td>81.70</td>\n      <td>42</td>\n      <td>51</td>\n      <td>6.15</td>\n      <td>GH</td>\n      <td>1615268588</td>\n    </tr>\n    <tr>\n      <th>564</th>\n      <td>kaka</td>\n      <td>37.35</td>\n      <td>59.61</td>\n      <td>62.22</td>\n      <td>32</td>\n      <td>94</td>\n      <td>1.86</td>\n      <td>TM</td>\n      <td>1615268787</td>\n    </tr>\n  </tbody>\n</table>\n"
     ]
    }
   ],
   "source": [
    "print(df2.to_html())"
   ]
  }
 ],
 "metadata": {
  "kernelspec": {
   "name": "python3",
   "display_name": "Python 3.8.5 64-bit ('PythonData': conda)",
   "metadata": {
    "interpreter": {
     "hash": "cdec18ba4ca48acda72a4eea95d28e80bac1bcab22f92af00d139d62cd4ea55d"
    }
   }
  },
  "language_info": {
   "codemirror_mode": {
    "name": "ipython",
    "version": 3
   },
   "file_extension": ".py",
   "mimetype": "text/x-python",
   "name": "python",
   "nbconvert_exporter": "python",
   "pygments_lexer": "ipython3",
   "version": "3.8.5-final"
  },
  "varInspector": {
   "cols": {
    "lenName": 16,
    "lenType": 16,
    "lenVar": 40
   },
   "kernels_config": {
    "python": {
     "delete_cmd_postfix": "",
     "delete_cmd_prefix": "del ",
     "library": "var_list.py",
     "varRefreshCmd": "print(var_dic_list())"
    },
    "r": {
     "delete_cmd_postfix": ") ",
     "delete_cmd_prefix": "rm(",
     "library": "var_list.r",
     "varRefreshCmd": "cat(var_dic_list()) "
    }
   },
   "types_to_exclude": [
    "module",
    "function",
    "builtin_function_or_method",
    "instance",
    "_Feature"
   ],
   "window_display": false
  }
 },
 "nbformat": 4,
 "nbformat_minor": 4
}